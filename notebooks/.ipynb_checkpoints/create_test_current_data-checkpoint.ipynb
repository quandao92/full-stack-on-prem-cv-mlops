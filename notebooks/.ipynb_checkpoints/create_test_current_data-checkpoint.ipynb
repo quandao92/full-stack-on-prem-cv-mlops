{
 "cells": [
  {
   "cell_type": "code",
   "execution_count": 2,
   "id": "c21d8495-702e-465d-bae2-540e3ad3ddd3",
   "metadata": {},
   "outputs": [],
   "source": [
    "import os\n",
    "import requests\n",
    "import pandas as pd\n",
    "import numpy as np\n",
    "from io import BytesIO\n",
    "from PIL import Image\n",
    "from tqdm import tqdm"
   ]
  },
  {
   "cell_type": "code",
   "execution_count": 2,
   "id": "dd4e57ca-149d-4a51-a2bb-a5c302572b1c",
   "metadata": {},
   "outputs": [],
   "source": [
    "annot_df = pd.read_csv('/home/ariya/workspace/datasets/animals10-dvc/annotation_df.csv')"
   ]
  },
  {
   "cell_type": "code",
   "execution_count": 3,
   "id": "968e5c96-1ed1-41d4-8d2e-a401849753bb",
   "metadata": {},
   "outputs": [
    {
     "data": {
      "text/plain": [
       "2618"
      ]
     },
     "execution_count": 3,
     "metadata": {},
     "output_type": "execute_result"
    }
   ],
   "source": [
    "test_df = annot_df[annot_df['split']=='test']\n",
    "len(test_df)"
   ]
  },
  {
   "cell_type": "code",
   "execution_count": 4,
   "id": "7f6229a1-5c73-428e-b69c-fc64ad6e2244",
   "metadata": {},
   "outputs": [
    {
     "data": {
      "text/plain": [
       "['/home/ariya/workspace/datasets/animals10-dvc/images/test/chicken/OIP-Gfaxns6HA4SxAJGyDKMyfAHaFi.jpeg',\n",
       " '/home/ariya/workspace/datasets/animals10-dvc/images/test/spider/OIP-y8GPU8H1a3IvDSJhat_KNQHaFj.jpeg',\n",
       " '/home/ariya/workspace/datasets/animals10-dvc/images/test/cow/OIP-YYexVfC98d1zMJGxK1QTJAHaEo.jpeg',\n",
       " '/home/ariya/workspace/datasets/animals10-dvc/images/test/spider/eb33b7092af2003ed1584d05fb1d4e9fe777ead218ac104497f5c97ca5ecb3b9_640.jpeg',\n",
       " '/home/ariya/workspace/datasets/animals10-dvc/images/test/dog/OIP-DU8oP5HWLQpETU4hP_VmYQHaEK.jpeg']"
      ]
     },
     "execution_count": 4,
     "metadata": {},
     "output_type": "execute_result"
    }
   ],
   "source": [
    "n_sample = 500\n",
    "sample_df = test_df.sample(n=n_sample, random_state=42)\n",
    "img_paths = list(sample_df['abs_path'])\n",
    "img_paths[:5]"
   ]
  },
  {
   "cell_type": "code",
   "execution_count": 4,
   "id": "cd7bf7ba-4f5a-4c8c-a55e-3947328186d8",
   "metadata": {},
   "outputs": [],
   "source": [
    "service_host = 'nginx'\n",
    "service_port = '80'"
   ]
  },
  {
   "cell_type": "markdown",
   "id": "1460cbe4-8f12-4f48-9880-19211ff1f013",
   "metadata": {},
   "source": [
    "## post with sample from test set"
   ]
  },
  {
   "cell_type": "code",
   "execution_count": 6,
   "id": "1c4b59a8-35b0-4dac-953a-934d4de664ce",
   "metadata": {},
   "outputs": [
    {
     "name": "stderr",
     "output_type": "stream",
     "text": [
      "100%|██████████| 500/500 [05:54<00:00,  1.41it/s]\n"
     ]
    }
   ],
   "source": [
    "for img_path in tqdm(img_paths):\n",
    "    res = requests.post(f'http://{service_host}:{service_port}/predict/',\n",
    "                    files={'file':open(img_path, 'rb')}\n",
    "                    )\n",
    "    if res.status_code != 200:\n",
    "        print(f'Something went wrong with {img_path}')"
   ]
  },
  {
   "cell_type": "markdown",
   "id": "2bb9b7ff-c1ff-4897-805b-f97972b0359f",
   "metadata": {},
   "source": [
    "## post with noise images"
   ]
  },
  {
   "cell_type": "code",
   "execution_count": 5,
   "id": "3a521b16-9c03-422f-9beb-9b1fe3ede019",
   "metadata": {},
   "outputs": [
    {
     "name": "stderr",
     "output_type": "stream",
     "text": [
      "100%|██████████| 500/500 [05:22<00:00,  1.55it/s]\n"
     ]
    }
   ],
   "source": [
    "for img_path in tqdm(range(500)):\n",
    "    noise = np.random.randint(0, 255, size=(200,200,3), dtype=np.uint8)\n",
    "    pil_img = Image.fromarray(noise)\n",
    "    byte_io = BytesIO()\n",
    "    pil_img.save(byte_io, format=\"JPEG\")\n",
    "    byte_io.seek(0)\n",
    "    \n",
    "    res = requests.post(f'http://{service_host}:{service_port}/predict/',\n",
    "                    files={'file':byte_io}\n",
    "                    )\n",
    "    if res.status_code != 200:\n",
    "        print(f'Something went wrong with {img_path}')"
   ]
  },
  {
   "cell_type": "code",
   "execution_count": null,
   "id": "142e081e-bb06-406e-9086-cef1b66d90a6",
   "metadata": {},
   "outputs": [],
   "source": []
  }
 ],
 "metadata": {
  "kernelspec": {
   "display_name": "computer-viz-dl",
   "language": "python",
   "name": "computer-viz-dl"
  },
  "language_info": {
   "codemirror_mode": {
    "name": "ipython",
    "version": 3
   },
   "file_extension": ".py",
   "mimetype": "text/x-python",
   "name": "python",
   "nbconvert_exporter": "python",
   "pygments_lexer": "ipython3",
   "version": "3.9.18"
  }
 },
 "nbformat": 4,
 "nbformat_minor": 5
}
