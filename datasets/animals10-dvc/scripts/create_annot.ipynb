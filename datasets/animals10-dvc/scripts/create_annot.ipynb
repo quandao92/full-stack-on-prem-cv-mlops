{
 "cells": [
  {
   "cell_type": "code",
   "execution_count": 1,
   "id": "baca7611-508c-4307-ad35-050d6859e2ad",
   "metadata": {},
   "outputs": [],
   "source": [
    "import os\n",
    "import numpy as np\n",
    "import pandas as pd\n",
    "from tqdm import tqdm"
   ]
  },
  {
   "cell_type": "code",
   "execution_count": 3,
   "id": "7b549bc1-8f24-4c13-957b-f0d93afe4eda",
   "metadata": {},
   "outputs": [
    {
     "data": {
      "text/plain": [
       "['butterfly',\n",
       " 'cat',\n",
       " 'chicken',\n",
       " 'cow',\n",
       " 'dog',\n",
       " 'elephant',\n",
       " 'horse',\n",
       " 'sheep',\n",
       " 'spider',\n",
       " 'squirrel',\n",
       " 'translate.py']"
      ]
     },
     "execution_count": 3,
     "metadata": {},
     "output_type": "execute_result"
    }
   ],
   "source": [
    "ds_path = '/home/ariya/workspace/datasets/animals10-dvc'\n",
    "ds_images_path = os.path.join(ds_path, 'images')\n",
    "os.listdir(ds_images_path)"
   ]
  },
  {
   "cell_type": "code",
   "execution_count": 4,
   "id": "2bd9c0a1-2d56-46c5-9213-1919898890d5",
   "metadata": {},
   "outputs": [],
   "source": [
    "# cols: image_name, abs_path, split, GT\n",
    "classes = np.array(['butterfly', 'cat', 'chicken', 'cow', 'dog', \n",
    "                    'elephant', 'horse', 'sheep', 'spider', 'squirrel'])"
   ]
  },
  {
   "cell_type": "code",
   "execution_count": 5,
   "id": "0e56ecff-2ba4-412b-bca9-5efa2841dc54",
   "metadata": {},
   "outputs": [
    {
     "data": {
      "text/plain": [
       "[0, 1, 0, 0, 0, 0, 0, 0, 0, 0]"
      ]
     },
     "execution_count": 5,
     "metadata": {},
     "output_type": "execute_result"
    }
   ],
   "source": [
    "# example of how it works\n",
    "[*('cat' == classes).astype(int)]"
   ]
  },
  {
   "cell_type": "code",
   "execution_count": 6,
   "id": "50a6ab16-e8ef-4b22-a5b5-a896828d8362",
   "metadata": {},
   "outputs": [
    {
     "name": "stderr",
     "output_type": "stream",
     "text": [
      "100%|██████████| 1/1 [00:00<00:00, 1205.26it/s]\n",
      "100%|██████████| 2112/2112 [00:00<00:00, 14247.85it/s]\n",
      "100%|██████████| 1668/1668 [00:00<00:00, 12155.69it/s]\n",
      "100%|██████████| 3098/3098 [00:00<00:00, 13473.66it/s]\n",
      "100%|██████████| 1866/1866 [00:00<00:00, 12751.74it/s]\n",
      "100%|██████████| 4863/4863 [00:00<00:00, 12689.57it/s]\n",
      "100%|██████████| 1446/1446 [00:00<00:00, 12291.76it/s]\n",
      "100%|██████████| 2623/2623 [00:00<00:00, 12858.23it/s]\n",
      "100%|██████████| 1820/1820 [00:00<00:00, 12448.18it/s]\n",
      "100%|██████████| 4821/4821 [00:00<00:00, 13171.63it/s]\n",
      "100%|██████████| 1862/1862 [00:00<00:00, 12543.62it/s]\n"
     ]
    }
   ],
   "source": [
    "data = []\n",
    "exts = ('.jpeg', '.jpg', '.png') # checked in check_ds_info.ipynb\n",
    "for abs_path, subdirs, files in os.walk(ds_images_path):\n",
    "    for file in tqdm(files):\n",
    "        if file.endswith(exts):\n",
    "            gt_class = os.path.split(abs_path)[-1]\n",
    "            one_hot_gt = (gt_class == classes).astype(int)\n",
    "            row = [file, os.path.join(abs_path, file), *one_hot_gt]\n",
    "            data.append(row)\n",
    "annot_df = pd.DataFrame(data, columns=['image_name', 'abs_path', *classes])"
   ]
  },
  {
   "cell_type": "code",
   "execution_count": 7,
   "id": "f9f8c229-ae39-46c3-85a2-9c05c217e12e",
   "metadata": {},
   "outputs": [
    {
     "data": {
      "text/html": [
       "<div>\n",
       "<style scoped>\n",
       "    .dataframe tbody tr th:only-of-type {\n",
       "        vertical-align: middle;\n",
       "    }\n",
       "\n",
       "    .dataframe tbody tr th {\n",
       "        vertical-align: top;\n",
       "    }\n",
       "\n",
       "    .dataframe thead th {\n",
       "        text-align: right;\n",
       "    }\n",
       "</style>\n",
       "<table border=\"1\" class=\"dataframe\">\n",
       "  <thead>\n",
       "    <tr style=\"text-align: right;\">\n",
       "      <th></th>\n",
       "      <th>image_name</th>\n",
       "      <th>abs_path</th>\n",
       "      <th>butterfly</th>\n",
       "      <th>cat</th>\n",
       "      <th>chicken</th>\n",
       "      <th>cow</th>\n",
       "      <th>dog</th>\n",
       "      <th>elephant</th>\n",
       "      <th>horse</th>\n",
       "      <th>sheep</th>\n",
       "      <th>spider</th>\n",
       "      <th>squirrel</th>\n",
       "    </tr>\n",
       "  </thead>\n",
       "  <tbody>\n",
       "    <tr>\n",
       "      <th>0</th>\n",
       "      <td>e030b20928e90021d85a5854ee454296eb70e3c818b413...</td>\n",
       "      <td>/home/ariya/workspace/datasets/animals10-dvc/i...</td>\n",
       "      <td>1</td>\n",
       "      <td>0</td>\n",
       "      <td>0</td>\n",
       "      <td>0</td>\n",
       "      <td>0</td>\n",
       "      <td>0</td>\n",
       "      <td>0</td>\n",
       "      <td>0</td>\n",
       "      <td>0</td>\n",
       "      <td>0</td>\n",
       "    </tr>\n",
       "    <tr>\n",
       "      <th>1</th>\n",
       "      <td>e030b20929e90021d85a5854ee454296eb70e3c818b413...</td>\n",
       "      <td>/home/ariya/workspace/datasets/animals10-dvc/i...</td>\n",
       "      <td>1</td>\n",
       "      <td>0</td>\n",
       "      <td>0</td>\n",
       "      <td>0</td>\n",
       "      <td>0</td>\n",
       "      <td>0</td>\n",
       "      <td>0</td>\n",
       "      <td>0</td>\n",
       "      <td>0</td>\n",
       "      <td>0</td>\n",
       "    </tr>\n",
       "    <tr>\n",
       "      <th>2</th>\n",
       "      <td>e030b2092be90021d85a5854ee454296eb70e3c818b413...</td>\n",
       "      <td>/home/ariya/workspace/datasets/animals10-dvc/i...</td>\n",
       "      <td>1</td>\n",
       "      <td>0</td>\n",
       "      <td>0</td>\n",
       "      <td>0</td>\n",
       "      <td>0</td>\n",
       "      <td>0</td>\n",
       "      <td>0</td>\n",
       "      <td>0</td>\n",
       "      <td>0</td>\n",
       "      <td>0</td>\n",
       "    </tr>\n",
       "    <tr>\n",
       "      <th>3</th>\n",
       "      <td>e030b2092ce90021d85a5854ee454296eb70e3c818b413...</td>\n",
       "      <td>/home/ariya/workspace/datasets/animals10-dvc/i...</td>\n",
       "      <td>1</td>\n",
       "      <td>0</td>\n",
       "      <td>0</td>\n",
       "      <td>0</td>\n",
       "      <td>0</td>\n",
       "      <td>0</td>\n",
       "      <td>0</td>\n",
       "      <td>0</td>\n",
       "      <td>0</td>\n",
       "      <td>0</td>\n",
       "    </tr>\n",
       "    <tr>\n",
       "      <th>4</th>\n",
       "      <td>e030b2092de90021d85a5854ee454296eb70e3c818b413...</td>\n",
       "      <td>/home/ariya/workspace/datasets/animals10-dvc/i...</td>\n",
       "      <td>1</td>\n",
       "      <td>0</td>\n",
       "      <td>0</td>\n",
       "      <td>0</td>\n",
       "      <td>0</td>\n",
       "      <td>0</td>\n",
       "      <td>0</td>\n",
       "      <td>0</td>\n",
       "      <td>0</td>\n",
       "      <td>0</td>\n",
       "    </tr>\n",
       "    <tr>\n",
       "      <th>...</th>\n",
       "      <td>...</td>\n",
       "      <td>...</td>\n",
       "      <td>...</td>\n",
       "      <td>...</td>\n",
       "      <td>...</td>\n",
       "      <td>...</td>\n",
       "      <td>...</td>\n",
       "      <td>...</td>\n",
       "      <td>...</td>\n",
       "      <td>...</td>\n",
       "      <td>...</td>\n",
       "      <td>...</td>\n",
       "    </tr>\n",
       "    <tr>\n",
       "      <th>26174</th>\n",
       "      <td>OIP-_U7JiIoYjbWPqmmmmdsvJwHaF5.jpeg</td>\n",
       "      <td>/home/ariya/workspace/datasets/animals10-dvc/i...</td>\n",
       "      <td>0</td>\n",
       "      <td>0</td>\n",
       "      <td>0</td>\n",
       "      <td>0</td>\n",
       "      <td>0</td>\n",
       "      <td>0</td>\n",
       "      <td>0</td>\n",
       "      <td>0</td>\n",
       "      <td>0</td>\n",
       "      <td>1</td>\n",
       "    </tr>\n",
       "    <tr>\n",
       "      <th>26175</th>\n",
       "      <td>OIP-_VBkNQd_MZI4xoemUb-FtAHaE7.jpeg</td>\n",
       "      <td>/home/ariya/workspace/datasets/animals10-dvc/i...</td>\n",
       "      <td>0</td>\n",
       "      <td>0</td>\n",
       "      <td>0</td>\n",
       "      <td>0</td>\n",
       "      <td>0</td>\n",
       "      <td>0</td>\n",
       "      <td>0</td>\n",
       "      <td>0</td>\n",
       "      <td>0</td>\n",
       "      <td>1</td>\n",
       "    </tr>\n",
       "    <tr>\n",
       "      <th>26176</th>\n",
       "      <td>OIP-_WyHKgREia-4VijlL6DNswHaFj.jpeg</td>\n",
       "      <td>/home/ariya/workspace/datasets/animals10-dvc/i...</td>\n",
       "      <td>0</td>\n",
       "      <td>0</td>\n",
       "      <td>0</td>\n",
       "      <td>0</td>\n",
       "      <td>0</td>\n",
       "      <td>0</td>\n",
       "      <td>0</td>\n",
       "      <td>0</td>\n",
       "      <td>0</td>\n",
       "      <td>1</td>\n",
       "    </tr>\n",
       "    <tr>\n",
       "      <th>26177</th>\n",
       "      <td>OIP-_xFGMN0UbYduHdiXQ1maZAHaIF.jpeg</td>\n",
       "      <td>/home/ariya/workspace/datasets/animals10-dvc/i...</td>\n",
       "      <td>0</td>\n",
       "      <td>0</td>\n",
       "      <td>0</td>\n",
       "      <td>0</td>\n",
       "      <td>0</td>\n",
       "      <td>0</td>\n",
       "      <td>0</td>\n",
       "      <td>0</td>\n",
       "      <td>0</td>\n",
       "      <td>1</td>\n",
       "    </tr>\n",
       "    <tr>\n",
       "      <th>26178</th>\n",
       "      <td>OIP-_XkUFCI2duAyKDD9utKQzgHaFc.jpeg</td>\n",
       "      <td>/home/ariya/workspace/datasets/animals10-dvc/i...</td>\n",
       "      <td>0</td>\n",
       "      <td>0</td>\n",
       "      <td>0</td>\n",
       "      <td>0</td>\n",
       "      <td>0</td>\n",
       "      <td>0</td>\n",
       "      <td>0</td>\n",
       "      <td>0</td>\n",
       "      <td>0</td>\n",
       "      <td>1</td>\n",
       "    </tr>\n",
       "  </tbody>\n",
       "</table>\n",
       "<p>26179 rows × 12 columns</p>\n",
       "</div>"
      ],
      "text/plain": [
       "                                              image_name  \\\n",
       "0      e030b20928e90021d85a5854ee454296eb70e3c818b413...   \n",
       "1      e030b20929e90021d85a5854ee454296eb70e3c818b413...   \n",
       "2      e030b2092be90021d85a5854ee454296eb70e3c818b413...   \n",
       "3      e030b2092ce90021d85a5854ee454296eb70e3c818b413...   \n",
       "4      e030b2092de90021d85a5854ee454296eb70e3c818b413...   \n",
       "...                                                  ...   \n",
       "26174                OIP-_U7JiIoYjbWPqmmmmdsvJwHaF5.jpeg   \n",
       "26175                OIP-_VBkNQd_MZI4xoemUb-FtAHaE7.jpeg   \n",
       "26176                OIP-_WyHKgREia-4VijlL6DNswHaFj.jpeg   \n",
       "26177                OIP-_xFGMN0UbYduHdiXQ1maZAHaIF.jpeg   \n",
       "26178                OIP-_XkUFCI2duAyKDD9utKQzgHaFc.jpeg   \n",
       "\n",
       "                                                abs_path  butterfly  cat  \\\n",
       "0      /home/ariya/workspace/datasets/animals10-dvc/i...          1    0   \n",
       "1      /home/ariya/workspace/datasets/animals10-dvc/i...          1    0   \n",
       "2      /home/ariya/workspace/datasets/animals10-dvc/i...          1    0   \n",
       "3      /home/ariya/workspace/datasets/animals10-dvc/i...          1    0   \n",
       "4      /home/ariya/workspace/datasets/animals10-dvc/i...          1    0   \n",
       "...                                                  ...        ...  ...   \n",
       "26174  /home/ariya/workspace/datasets/animals10-dvc/i...          0    0   \n",
       "26175  /home/ariya/workspace/datasets/animals10-dvc/i...          0    0   \n",
       "26176  /home/ariya/workspace/datasets/animals10-dvc/i...          0    0   \n",
       "26177  /home/ariya/workspace/datasets/animals10-dvc/i...          0    0   \n",
       "26178  /home/ariya/workspace/datasets/animals10-dvc/i...          0    0   \n",
       "\n",
       "       chicken  cow  dog  elephant  horse  sheep  spider  squirrel  \n",
       "0            0    0    0         0      0      0       0         0  \n",
       "1            0    0    0         0      0      0       0         0  \n",
       "2            0    0    0         0      0      0       0         0  \n",
       "3            0    0    0         0      0      0       0         0  \n",
       "4            0    0    0         0      0      0       0         0  \n",
       "...        ...  ...  ...       ...    ...    ...     ...       ...  \n",
       "26174        0    0    0         0      0      0       0         1  \n",
       "26175        0    0    0         0      0      0       0         1  \n",
       "26176        0    0    0         0      0      0       0         1  \n",
       "26177        0    0    0         0      0      0       0         1  \n",
       "26178        0    0    0         0      0      0       0         1  \n",
       "\n",
       "[26179 rows x 12 columns]"
      ]
     },
     "execution_count": 7,
     "metadata": {},
     "output_type": "execute_result"
    }
   ],
   "source": [
    "annot_df"
   ]
  },
  {
   "cell_type": "markdown",
   "id": "358fc803-bc5f-414d-b783-67fe8b3c14cc",
   "metadata": {},
   "source": [
    "## Train/Valid/Test split"
   ]
  },
  {
   "cell_type": "code",
   "execution_count": 8,
   "id": "d9e142a0-b18c-4932-b706-360c83dc0163",
   "metadata": {},
   "outputs": [],
   "source": [
    "from sklearn.model_selection import train_test_split"
   ]
  },
  {
   "cell_type": "code",
   "execution_count": 9,
   "id": "1b57d724-a230-4005-9a58-a439eb781a81",
   "metadata": {},
   "outputs": [],
   "source": [
    "# 80/10/10 split\n",
    "train_df, valid_test_df = train_test_split(annot_df, test_size=0.2, random_state=42, shuffle=True)\n",
    "valid_df, test_df = train_test_split(valid_test_df, test_size=0.5, random_state=42, shuffle=True)"
   ]
  },
  {
   "cell_type": "code",
   "execution_count": 15,
   "id": "8ed00686-3cfe-4423-9eab-19b90dabddb0",
   "metadata": {},
   "outputs": [],
   "source": [
    "# Đảm bảo rằng chúng ta đang làm việc với bản sao của DataFrame\n",
    "train_df = train_df.copy()\n",
    "valid_df = valid_df.copy()\n",
    "test_df = test_df.copy()\n",
    "\n",
    "# Gán giá trị vào cột 'split' của từng DataFrame\n",
    "train_df.loc[:, 'split'] = 'train'\n",
    "valid_df.loc[:, 'split'] = 'valid'\n",
    "test_df.loc[:, 'split'] = 'test'"
   ]
  },
  {
   "cell_type": "code",
   "execution_count": 16,
   "id": "82cb9b00-3a75-42c2-9bbf-faf0b08f43b5",
   "metadata": {},
   "outputs": [
    {
     "data": {
      "text/plain": [
       "(26179,\n",
       " (array(['test', 'train', 'valid'], dtype=object),\n",
       "  array([ 2618, 20943,  2618])))"
      ]
     },
     "execution_count": 16,
     "metadata": {},
     "output_type": "execute_result"
    }
   ],
   "source": [
    "final_annot_df = pd.concat([train_df, valid_df, test_df])\n",
    "len(final_annot_df), np.unique(final_annot_df['split'], return_counts=True)"
   ]
  },
  {
   "cell_type": "code",
   "execution_count": 17,
   "id": "ba815997-f2fb-49ab-80f0-7bf75acd7d89",
   "metadata": {},
   "outputs": [
    {
     "data": {
      "text/plain": [
       "Index(['image_name', 'abs_path', 'butterfly', 'cat', 'chicken', 'cow', 'dog',\n",
       "       'elephant', 'horse', 'sheep', 'spider', 'squirrel', 'split'],\n",
       "      dtype='object')"
      ]
     },
     "execution_count": 17,
     "metadata": {},
     "output_type": "execute_result"
    }
   ],
   "source": [
    "final_annot_df.columns"
   ]
  },
  {
   "cell_type": "code",
   "execution_count": 18,
   "id": "ed6ee4ef-ef63-4dc2-9fc1-dd4d56c3d2df",
   "metadata": {},
   "outputs": [],
   "source": [
    "final_annot_df.to_csv(os.path.join(ds_path, 'annotation_df.csv'), index=False)"
   ]
  },
  {
   "cell_type": "code",
   "execution_count": null,
   "id": "e2cdbfc7-8ec0-4964-9201-ccec06e97737",
   "metadata": {},
   "outputs": [],
   "source": []
  },
  {
   "cell_type": "code",
   "execution_count": null,
   "id": "04cfaa0d-d0d0-4956-ab86-66a369594b06",
   "metadata": {},
   "outputs": [],
   "source": []
  }
 ],
 "metadata": {
  "kernelspec": {
   "display_name": "computer-viz-dl",
   "language": "python",
   "name": "computer-viz-dl"
  },
  "language_info": {
   "codemirror_mode": {
    "name": "ipython",
    "version": 3
   },
   "file_extension": ".py",
   "mimetype": "text/x-python",
   "name": "python",
   "nbconvert_exporter": "python",
   "pygments_lexer": "ipython3",
   "version": "3.9.21"
  }
 },
 "nbformat": 4,
 "nbformat_minor": 5
}
